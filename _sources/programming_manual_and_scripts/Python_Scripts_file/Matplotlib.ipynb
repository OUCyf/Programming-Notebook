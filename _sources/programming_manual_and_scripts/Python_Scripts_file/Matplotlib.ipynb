{
 "cells": [
  {
   "cell_type": "markdown",
   "id": "9ac87893",
   "metadata": {},
   "source": [
    "# Matplotlib\n",
    "\n",
    "- Author: *{{Fu}}*\n",
    "- Update: *August 6, 2022*\n",
    "- Reading: *30 min*\n",
    "\n",
    "---\n",
    "\n",
    "\n",
    "## 3D Misfit Space"
   ]
  },
  {
   "cell_type": "code",
   "execution_count": 1,
   "id": "6757d6da",
   "metadata": {
    "tags": [
     "hide-input"
    ]
   },
   "outputs": [
    {
     "name": "stderr",
     "output_type": "stream",
     "text": [
      "/tmp/ipykernel_1829/568619384.py:97: MatplotlibDeprecationWarning: The w_xaxis attribute was deprecated in Matplotlib 3.1 and will be removed in 3.8. Use xaxis instead.\n",
      "  ax.w_xaxis.set_pane_color((1.0, 1.0, 1.0, 1.0))  # x 面的背景色设置为透明\n",
      "/tmp/ipykernel_1829/568619384.py:98: MatplotlibDeprecationWarning: The w_yaxis attribute was deprecated in Matplotlib 3.1 and will be removed in 3.8. Use yaxis instead.\n",
      "  ax.w_yaxis.set_pane_color((1.0, 1.0, 1.0, 1.0))  # y 面的背景色设置为透明\n"
     ]
    },
    {
     "name": "stderr",
     "output_type": "stream",
     "text": [
      "findfont: Generic family 'sans-serif' not found because none of the following families were found: Times New Roman\n"
     ]
    },
    {
     "name": "stderr",
     "output_type": "stream",
     "text": [
      "findfont: Generic family 'sans-serif' not found because none of the following families were found: Times New Roman\n"
     ]
    },
    {
     "name": "stderr",
     "output_type": "stream",
     "text": [
      "findfont: Generic family 'sans-serif' not found because none of the following families were found: Times New Roman\n"
     ]
    },
    {
     "name": "stderr",
     "output_type": "stream",
     "text": [
      "findfont: Generic family 'sans-serif' not found because none of the following families were found: Times New Roman\n"
     ]
    },
    {
     "name": "stderr",
     "output_type": "stream",
     "text": [
      "findfont: Generic family 'sans-serif' not found because none of the following families were found: Times New Roman\n"
     ]
    },
    {
     "name": "stderr",
     "output_type": "stream",
     "text": [
      "findfont: Generic family 'sans-serif' not found because none of the following families were found: Times New Roman\n"
     ]
    },
    {
     "name": "stderr",
     "output_type": "stream",
     "text": [
      "findfont: Generic family 'sans-serif' not found because none of the following families were found: Times New Roman\n"
     ]
    },
    {
     "name": "stderr",
     "output_type": "stream",
     "text": [
      "findfont: Generic family 'sans-serif' not found because none of the following families were found: Times New Roman\n"
     ]
    },
    {
     "name": "stderr",
     "output_type": "stream",
     "text": [
      "findfont: Generic family 'sans-serif' not found because none of the following families were found: Times New Roman\n"
     ]
    },
    {
     "name": "stderr",
     "output_type": "stream",
     "text": [
      "findfont: Generic family 'sans-serif' not found because none of the following families were found: Times New Roman\n"
     ]
    },
    {
     "name": "stderr",
     "output_type": "stream",
     "text": [
      "findfont: Generic family 'sans-serif' not found because none of the following families were found: Times New Roman\n"
     ]
    },
    {
     "name": "stderr",
     "output_type": "stream",
     "text": [
      "findfont: Generic family 'sans-serif' not found because none of the following families were found: Times New Roman\n"
     ]
    },
    {
     "name": "stderr",
     "output_type": "stream",
     "text": [
      "findfont: Generic family 'sans-serif' not found because none of the following families were found: Times New Roman\n"
     ]
    },
    {
     "name": "stderr",
     "output_type": "stream",
     "text": [
      "findfont: Generic family 'sans-serif' not found because none of the following families were found: Times New Roman\n"
     ]
    },
    {
     "name": "stderr",
     "output_type": "stream",
     "text": [
      "findfont: Generic family 'sans-serif' not found because none of the following families were found: Times New Roman\n"
     ]
    },
    {
     "name": "stderr",
     "output_type": "stream",
     "text": [
      "findfont: Generic family 'sans-serif' not found because none of the following families were found: Times New Roman\n"
     ]
    },
    {
     "name": "stderr",
     "output_type": "stream",
     "text": [
      "findfont: Generic family 'sans-serif' not found because none of the following families were found: Times New Roman\n"
     ]
    },
    {
     "name": "stderr",
     "output_type": "stream",
     "text": [
      "findfont: Generic family 'sans-serif' not found because none of the following families were found: Times New Roman\n"
     ]
    },
    {
     "name": "stderr",
     "output_type": "stream",
     "text": [
      "findfont: Generic family 'sans-serif' not found because none of the following families were found: Times New Roman\n"
     ]
    },
    {
     "name": "stderr",
     "output_type": "stream",
     "text": [
      "findfont: Generic family 'sans-serif' not found because none of the following families were found: Times New Roman\n"
     ]
    },
    {
     "name": "stderr",
     "output_type": "stream",
     "text": [
      "findfont: Generic family 'sans-serif' not found because none of the following families were found: Times New Roman\n"
     ]
    },
    {
     "name": "stderr",
     "output_type": "stream",
     "text": [
      "findfont: Generic family 'sans-serif' not found because none of the following families were found: Times New Roman\n"
     ]
    },
    {
     "name": "stderr",
     "output_type": "stream",
     "text": [
      "findfont: Generic family 'sans-serif' not found because none of the following families were found: Times New Roman\n"
     ]
    },
    {
     "name": "stderr",
     "output_type": "stream",
     "text": [
      "findfont: Generic family 'sans-serif' not found because none of the following families were found: Times New Roman\n"
     ]
    },
    {
     "name": "stderr",
     "output_type": "stream",
     "text": [
      "findfont: Generic family 'sans-serif' not found because none of the following families were found: Times New Roman\n"
     ]
    },
    {
     "name": "stderr",
     "output_type": "stream",
     "text": [
      "findfont: Generic family 'sans-serif' not found because none of the following families were found: Times New Roman\n"
     ]
    },
    {
     "name": "stderr",
     "output_type": "stream",
     "text": [
      "findfont: Generic family 'sans-serif' not found because none of the following families were found: Times New Roman\n"
     ]
    },
    {
     "name": "stderr",
     "output_type": "stream",
     "text": [
      "findfont: Generic family 'sans-serif' not found because none of the following families were found: Times New Roman\n"
     ]
    },
    {
     "name": "stderr",
     "output_type": "stream",
     "text": [
      "findfont: Generic family 'sans-serif' not found because none of the following families were found: Times New Roman\n"
     ]
    },
    {
     "name": "stderr",
     "output_type": "stream",
     "text": [
      "findfont: Generic family 'sans-serif' not found because none of the following families were found: Times New Roman\n"
     ]
    },
    {
     "name": "stderr",
     "output_type": "stream",
     "text": [
      "findfont: Generic family 'sans-serif' not found because none of the following families were found: Times New Roman\n"
     ]
    },
    {
     "name": "stderr",
     "output_type": "stream",
     "text": [
      "findfont: Generic family 'sans-serif' not found because none of the following families were found: Times New Roman\n"
     ]
    },
    {
     "name": "stderr",
     "output_type": "stream",
     "text": [
      "findfont: Generic family 'sans-serif' not found because none of the following families were found: Times New Roman\n"
     ]
    },
    {
     "name": "stderr",
     "output_type": "stream",
     "text": [
      "findfont: Generic family 'sans-serif' not found because none of the following families were found: Times New Roman\n"
     ]
    },
    {
     "name": "stderr",
     "output_type": "stream",
     "text": [
      "findfont: Generic family 'sans-serif' not found because none of the following families were found: Times New Roman\n"
     ]
    },
    {
     "name": "stderr",
     "output_type": "stream",
     "text": [
      "findfont: Generic family 'sans-serif' not found because none of the following families were found: Times New Roman\n"
     ]
    },
    {
     "name": "stderr",
     "output_type": "stream",
     "text": [
      "findfont: Generic family 'sans-serif' not found because none of the following families were found: Times New Roman\n"
     ]
    },
    {
     "name": "stderr",
     "output_type": "stream",
     "text": [
      "findfont: Generic family 'sans-serif' not found because none of the following families were found: Times New Roman\n"
     ]
    },
    {
     "name": "stderr",
     "output_type": "stream",
     "text": [
      "findfont: Generic family 'sans-serif' not found because none of the following families were found: Times New Roman\n"
     ]
    },
    {
     "name": "stderr",
     "output_type": "stream",
     "text": [
      "findfont: Generic family 'sans-serif' not found because none of the following families were found: Times New Roman\n"
     ]
    },
    {
     "name": "stderr",
     "output_type": "stream",
     "text": [
      "findfont: Generic family 'sans-serif' not found because none of the following families were found: Times New Roman\n"
     ]
    },
    {
     "name": "stderr",
     "output_type": "stream",
     "text": [
      "findfont: Generic family 'sans-serif' not found because none of the following families were found: Times New Roman\n"
     ]
    },
    {
     "name": "stderr",
     "output_type": "stream",
     "text": [
      "findfont: Generic family 'sans-serif' not found because none of the following families were found: Times New Roman\n"
     ]
    },
    {
     "name": "stderr",
     "output_type": "stream",
     "text": [
      "findfont: Generic family 'sans-serif' not found because none of the following families were found: Times New Roman\n"
     ]
    },
    {
     "name": "stderr",
     "output_type": "stream",
     "text": [
      "findfont: Generic family 'sans-serif' not found because none of the following families were found: Times New Roman\n"
     ]
    },
    {
     "name": "stderr",
     "output_type": "stream",
     "text": [
      "findfont: Generic family 'sans-serif' not found because none of the following families were found: Times New Roman\n"
     ]
    },
    {
     "name": "stderr",
     "output_type": "stream",
     "text": [
      "findfont: Generic family 'sans-serif' not found because none of the following families were found: Times New Roman\n"
     ]
    },
    {
     "name": "stderr",
     "output_type": "stream",
     "text": [
      "findfont: Generic family 'sans-serif' not found because none of the following families were found: Times New Roman\n"
     ]
    },
    {
     "name": "stderr",
     "output_type": "stream",
     "text": [
      "findfont: Generic family 'sans-serif' not found because none of the following families were found: Times New Roman\n"
     ]
    },
    {
     "name": "stderr",
     "output_type": "stream",
     "text": [
      "findfont: Generic family 'sans-serif' not found because none of the following families were found: Times New Roman\n"
     ]
    },
    {
     "name": "stderr",
     "output_type": "stream",
     "text": [
      "findfont: Generic family 'sans-serif' not found because none of the following families were found: Times New Roman\n"
     ]
    },
    {
     "name": "stderr",
     "output_type": "stream",
     "text": [
      "findfont: Generic family 'sans-serif' not found because none of the following families were found: Times New Roman\n"
     ]
    },
    {
     "name": "stderr",
     "output_type": "stream",
     "text": [
      "findfont: Generic family 'sans-serif' not found because none of the following families were found: Times New Roman\n"
     ]
    },
    {
     "name": "stderr",
     "output_type": "stream",
     "text": [
      "findfont: Generic family 'sans-serif' not found because none of the following families were found: Times New Roman\n"
     ]
    },
    {
     "name": "stderr",
     "output_type": "stream",
     "text": [
      "findfont: Generic family 'sans-serif' not found because none of the following families were found: Times New Roman\n"
     ]
    },
    {
     "name": "stderr",
     "output_type": "stream",
     "text": [
      "findfont: Generic family 'sans-serif' not found because none of the following families were found: Times New Roman\n"
     ]
    },
    {
     "name": "stderr",
     "output_type": "stream",
     "text": [
      "findfont: Generic family 'sans-serif' not found because none of the following families were found: Times New Roman\n"
     ]
    },
    {
     "name": "stderr",
     "output_type": "stream",
     "text": [
      "findfont: Generic family 'sans-serif' not found because none of the following families were found: Times New Roman\n"
     ]
    },
    {
     "name": "stderr",
     "output_type": "stream",
     "text": [
      "findfont: Generic family 'sans-serif' not found because none of the following families were found: Times New Roman\n"
     ]
    },
    {
     "name": "stderr",
     "output_type": "stream",
     "text": [
      "findfont: Generic family 'sans-serif' not found because none of the following families were found: Times New Roman\n"
     ]
    },
    {
     "name": "stderr",
     "output_type": "stream",
     "text": [
      "findfont: Generic family 'sans-serif' not found because none of the following families were found: Times New Roman\n"
     ]
    },
    {
     "name": "stderr",
     "output_type": "stream",
     "text": [
      "findfont: Generic family 'sans-serif' not found because none of the following families were found: Times New Roman\n"
     ]
    },
    {
     "name": "stderr",
     "output_type": "stream",
     "text": [
      "findfont: Generic family 'sans-serif' not found because none of the following families were found: Times New Roman\n"
     ]
    },
    {
     "name": "stderr",
     "output_type": "stream",
     "text": [
      "findfont: Generic family 'sans-serif' not found because none of the following families were found: Times New Roman\n"
     ]
    },
    {
     "name": "stderr",
     "output_type": "stream",
     "text": [
      "findfont: Generic family 'sans-serif' not found because none of the following families were found: Times New Roman\n"
     ]
    },
    {
     "name": "stderr",
     "output_type": "stream",
     "text": [
      "findfont: Generic family 'sans-serif' not found because none of the following families were found: Times New Roman\n"
     ]
    },
    {
     "name": "stderr",
     "output_type": "stream",
     "text": [
      "findfont: Generic family 'sans-serif' not found because none of the following families were found: Times New Roman\n"
     ]
    },
    {
     "name": "stderr",
     "output_type": "stream",
     "text": [
      "findfont: Generic family 'sans-serif' not found because none of the following families were found: Times New Roman\n"
     ]
    },
    {
     "name": "stderr",
     "output_type": "stream",
     "text": [
      "findfont: Generic family 'sans-serif' not found because none of the following families were found: Times New Roman\n"
     ]
    },
    {
     "name": "stderr",
     "output_type": "stream",
     "text": [
      "findfont: Generic family 'sans-serif' not found because none of the following families were found: Times New Roman\n"
     ]
    },
    {
     "name": "stderr",
     "output_type": "stream",
     "text": [
      "findfont: Generic family 'sans-serif' not found because none of the following families were found: Times New Roman\n"
     ]
    },
    {
     "name": "stderr",
     "output_type": "stream",
     "text": [
      "findfont: Generic family 'sans-serif' not found because none of the following families were found: Times New Roman\n"
     ]
    },
    {
     "name": "stderr",
     "output_type": "stream",
     "text": [
      "findfont: Generic family 'sans-serif' not found because none of the following families were found: Times New Roman\n"
     ]
    },
    {
     "name": "stderr",
     "output_type": "stream",
     "text": [
      "findfont: Generic family 'sans-serif' not found because none of the following families were found: Times New Roman\n"
     ]
    },
    {
     "name": "stderr",
     "output_type": "stream",
     "text": [
      "findfont: Generic family 'sans-serif' not found because none of the following families were found: Times New Roman\n"
     ]
    },
    {
     "name": "stderr",
     "output_type": "stream",
     "text": [
      "findfont: Generic family 'sans-serif' not found because none of the following families were found: Times New Roman\n"
     ]
    },
    {
     "name": "stderr",
     "output_type": "stream",
     "text": [
      "findfont: Generic family 'sans-serif' not found because none of the following families were found: Times New Roman\n"
     ]
    },
    {
     "name": "stderr",
     "output_type": "stream",
     "text": [
      "findfont: Generic family 'sans-serif' not found because none of the following families were found: Times New Roman\n"
     ]
    },
    {
     "name": "stderr",
     "output_type": "stream",
     "text": [
      "findfont: Generic family 'sans-serif' not found because none of the following families were found: Times New Roman\n"
     ]
    },
    {
     "name": "stderr",
     "output_type": "stream",
     "text": [
      "findfont: Generic family 'sans-serif' not found because none of the following families were found: Times New Roman\n"
     ]
    },
    {
     "name": "stderr",
     "output_type": "stream",
     "text": [
      "findfont: Generic family 'sans-serif' not found because none of the following families were found: Times New Roman\n"
     ]
    },
    {
     "name": "stderr",
     "output_type": "stream",
     "text": [
      "findfont: Generic family 'sans-serif' not found because none of the following families were found: Times New Roman\n"
     ]
    },
    {
     "name": "stderr",
     "output_type": "stream",
     "text": [
      "findfont: Generic family 'sans-serif' not found because none of the following families were found: Times New Roman\n"
     ]
    },
    {
     "name": "stderr",
     "output_type": "stream",
     "text": [
      "findfont: Generic family 'sans-serif' not found because none of the following families were found: Times New Roman\n"
     ]
    },
    {
     "name": "stderr",
     "output_type": "stream",
     "text": [
      "findfont: Generic family 'sans-serif' not found because none of the following families were found: Times New Roman\n"
     ]
    },
    {
     "name": "stderr",
     "output_type": "stream",
     "text": [
      "findfont: Generic family 'sans-serif' not found because none of the following families were found: Times New Roman\n"
     ]
    },
    {
     "name": "stderr",
     "output_type": "stream",
     "text": [
      "findfont: Generic family 'sans-serif' not found because none of the following families were found: Times New Roman\n"
     ]
    },
    {
     "name": "stderr",
     "output_type": "stream",
     "text": [
      "findfont: Generic family 'sans-serif' not found because none of the following families were found: Times New Roman\n"
     ]
    },
    {
     "name": "stderr",
     "output_type": "stream",
     "text": [
      "findfont: Generic family 'sans-serif' not found because none of the following families were found: Times New Roman\n"
     ]
    },
    {
     "name": "stderr",
     "output_type": "stream",
     "text": [
      "findfont: Generic family 'sans-serif' not found because none of the following families were found: Times New Roman\n"
     ]
    },
    {
     "name": "stderr",
     "output_type": "stream",
     "text": [
      "findfont: Generic family 'sans-serif' not found because none of the following families were found: Times New Roman\n"
     ]
    },
    {
     "name": "stderr",
     "output_type": "stream",
     "text": [
      "findfont: Generic family 'sans-serif' not found because none of the following families were found: Times New Roman\n"
     ]
    },
    {
     "name": "stderr",
     "output_type": "stream",
     "text": [
      "findfont: Generic family 'sans-serif' not found because none of the following families were found: Times New Roman\n"
     ]
    },
    {
     "name": "stderr",
     "output_type": "stream",
     "text": [
      "findfont: Generic family 'sans-serif' not found because none of the following families were found: Times New Roman\n"
     ]
    },
    {
     "name": "stderr",
     "output_type": "stream",
     "text": [
      "findfont: Generic family 'sans-serif' not found because none of the following families were found: Times New Roman\n"
     ]
    },
    {
     "name": "stderr",
     "output_type": "stream",
     "text": [
      "findfont: Generic family 'sans-serif' not found because none of the following families were found: Times New Roman\n"
     ]
    },
    {
     "name": "stderr",
     "output_type": "stream",
     "text": [
      "findfont: Generic family 'sans-serif' not found because none of the following families were found: Times New Roman\n"
     ]
    },
    {
     "name": "stderr",
     "output_type": "stream",
     "text": [
      "findfont: Generic family 'sans-serif' not found because none of the following families were found: Times New Roman\n"
     ]
    },
    {
     "name": "stderr",
     "output_type": "stream",
     "text": [
      "findfont: Generic family 'sans-serif' not found because none of the following families were found: Times New Roman\n"
     ]
    },
    {
     "name": "stderr",
     "output_type": "stream",
     "text": [
      "findfont: Generic family 'sans-serif' not found because none of the following families were found: Times New Roman\n"
     ]
    },
    {
     "name": "stderr",
     "output_type": "stream",
     "text": [
      "findfont: Generic family 'sans-serif' not found because none of the following families were found: Times New Roman\n"
     ]
    },
    {
     "name": "stderr",
     "output_type": "stream",
     "text": [
      "findfont: Generic family 'sans-serif' not found because none of the following families were found: Times New Roman\n"
     ]
    },
    {
     "name": "stderr",
     "output_type": "stream",
     "text": [
      "findfont: Generic family 'sans-serif' not found because none of the following families were found: Times New Roman\n"
     ]
    },
    {
     "name": "stderr",
     "output_type": "stream",
     "text": [
      "findfont: Generic family 'sans-serif' not found because none of the following families were found: Times New Roman\n"
     ]
    },
    {
     "name": "stderr",
     "output_type": "stream",
     "text": [
      "findfont: Generic family 'sans-serif' not found because none of the following families were found: Times New Roman\n"
     ]
    },
    {
     "name": "stderr",
     "output_type": "stream",
     "text": [
      "findfont: Generic family 'sans-serif' not found because none of the following families were found: Times New Roman\n"
     ]
    },
    {
     "name": "stderr",
     "output_type": "stream",
     "text": [
      "findfont: Generic family 'sans-serif' not found because none of the following families were found: Times New Roman\n"
     ]
    },
    {
     "name": "stderr",
     "output_type": "stream",
     "text": [
      "findfont: Generic family 'sans-serif' not found because none of the following families were found: Times New Roman\n"
     ]
    },
    {
     "name": "stderr",
     "output_type": "stream",
     "text": [
      "findfont: Generic family 'sans-serif' not found because none of the following families were found: Times New Roman\n"
     ]
    },
    {
     "name": "stderr",
     "output_type": "stream",
     "text": [
      "findfont: Generic family 'sans-serif' not found because none of the following families were found: Times New Roman\n"
     ]
    },
    {
     "name": "stderr",
     "output_type": "stream",
     "text": [
      "findfont: Generic family 'sans-serif' not found because none of the following families were found: Times New Roman\n"
     ]
    },
    {
     "name": "stderr",
     "output_type": "stream",
     "text": [
      "findfont: Generic family 'sans-serif' not found because none of the following families were found: Times New Roman\n"
     ]
    },
    {
     "name": "stderr",
     "output_type": "stream",
     "text": [
      "findfont: Generic family 'sans-serif' not found because none of the following families were found: Times New Roman\n"
     ]
    },
    {
     "name": "stderr",
     "output_type": "stream",
     "text": [
      "findfont: Generic family 'sans-serif' not found because none of the following families were found: Times New Roman\n"
     ]
    },
    {
     "name": "stderr",
     "output_type": "stream",
     "text": [
      "findfont: Generic family 'sans-serif' not found because none of the following families were found: Times New Roman\n"
     ]
    },
    {
     "name": "stderr",
     "output_type": "stream",
     "text": [
      "findfont: Generic family 'sans-serif' not found because none of the following families were found: Times New Roman\n"
     ]
    },
    {
     "name": "stderr",
     "output_type": "stream",
     "text": [
      "findfont: Generic family 'sans-serif' not found because none of the following families were found: Times New Roman\n"
     ]
    },
    {
     "name": "stderr",
     "output_type": "stream",
     "text": [
      "findfont: Generic family 'sans-serif' not found because none of the following families were found: Times New Roman\n"
     ]
    },
    {
     "name": "stderr",
     "output_type": "stream",
     "text": [
      "findfont: Generic family 'sans-serif' not found because none of the following families were found: Times New Roman\n"
     ]
    },
    {
     "name": "stderr",
     "output_type": "stream",
     "text": [
      "findfont: Generic family 'sans-serif' not found because none of the following families were found: Times New Roman\n"
     ]
    },
    {
     "name": "stderr",
     "output_type": "stream",
     "text": [
      "findfont: Generic family 'sans-serif' not found because none of the following families were found: Times New Roman\n"
     ]
    },
    {
     "name": "stderr",
     "output_type": "stream",
     "text": [
      "findfont: Generic family 'sans-serif' not found because none of the following families were found: Times New Roman\n"
     ]
    },
    {
     "name": "stderr",
     "output_type": "stream",
     "text": [
      "findfont: Generic family 'sans-serif' not found because none of the following families were found: Times New Roman\n"
     ]
    },
    {
     "name": "stderr",
     "output_type": "stream",
     "text": [
      "findfont: Generic family 'sans-serif' not found because none of the following families were found: Times New Roman\n"
     ]
    },
    {
     "name": "stderr",
     "output_type": "stream",
     "text": [
      "findfont: Generic family 'sans-serif' not found because none of the following families were found: Times New Roman\n"
     ]
    },
    {
     "name": "stderr",
     "output_type": "stream",
     "text": [
      "findfont: Generic family 'sans-serif' not found because none of the following families were found: Times New Roman\n"
     ]
    },
    {
     "name": "stderr",
     "output_type": "stream",
     "text": [
      "findfont: Generic family 'sans-serif' not found because none of the following families were found: Times New Roman\n"
     ]
    },
    {
     "name": "stderr",
     "output_type": "stream",
     "text": [
      "findfont: Generic family 'sans-serif' not found because none of the following families were found: Times New Roman\n"
     ]
    },
    {
     "name": "stderr",
     "output_type": "stream",
     "text": [
      "findfont: Generic family 'sans-serif' not found because none of the following families were found: Times New Roman\n"
     ]
    },
    {
     "name": "stderr",
     "output_type": "stream",
     "text": [
      "findfont: Generic family 'sans-serif' not found because none of the following families were found: Times New Roman\n"
     ]
    },
    {
     "name": "stderr",
     "output_type": "stream",
     "text": [
      "findfont: Generic family 'sans-serif' not found because none of the following families were found: Times New Roman\n"
     ]
    },
    {
     "name": "stderr",
     "output_type": "stream",
     "text": [
      "findfont: Generic family 'sans-serif' not found because none of the following families were found: Times New Roman\n"
     ]
    },
    {
     "name": "stderr",
     "output_type": "stream",
     "text": [
      "findfont: Generic family 'sans-serif' not found because none of the following families were found: Times New Roman\n"
     ]
    },
    {
     "name": "stderr",
     "output_type": "stream",
     "text": [
      "findfont: Generic family 'sans-serif' not found because none of the following families were found: Times New Roman\n"
     ]
    },
    {
     "name": "stderr",
     "output_type": "stream",
     "text": [
      "findfont: Generic family 'sans-serif' not found because none of the following families were found: Times New Roman\n"
     ]
    },
    {
     "name": "stderr",
     "output_type": "stream",
     "text": [
      "findfont: Generic family 'sans-serif' not found because none of the following families were found: Times New Roman\n"
     ]
    },
    {
     "name": "stderr",
     "output_type": "stream",
     "text": [
      "findfont: Generic family 'sans-serif' not found because none of the following families were found: Times New Roman\n"
     ]
    },
    {
     "name": "stderr",
     "output_type": "stream",
     "text": [
      "findfont: Generic family 'sans-serif' not found because none of the following families were found: Times New Roman\n"
     ]
    },
    {
     "name": "stderr",
     "output_type": "stream",
     "text": [
      "findfont: Generic family 'sans-serif' not found because none of the following families were found: Times New Roman\n"
     ]
    },
    {
     "name": "stderr",
     "output_type": "stream",
     "text": [
      "findfont: Generic family 'sans-serif' not found because none of the following families were found: Times New Roman\n"
     ]
    },
    {
     "data": {
      "image/png": "[encoded data removed]",
      "text/plain": [
       "<Figure size 1000x1000 with 4 Axes>"
      ]
     },
     "metadata": {
      "filenames": {
       "image/png": "/home/runner/work/Seiscode-Notebook/Seiscode-Notebook/book/_build/jupyter_execute/programming_manual_and_scripts/Python_Scripts_file/Matplotlib_1_141.png"
      }
     },
     "output_type": "display_data"
    }
   ],
   "source": [
    "#!/usr/bin/env python3\n",
    "# -*- coding: utf-8 -*-\n",
    "\"\"\"\n",
    "Created on Wed Jul 28 22:09:35 2021\n",
    "\n",
    "@author: yf\n",
    "\"\"\"\n",
    "\n",
    "import numpy as np\n",
    "import os\n",
    "import matplotlib.gridspec as gridspec\n",
    "from matplotlib import pyplot as plt\n",
    "from matplotlib.pyplot import MultipleLocator\n",
    "import math\n",
    "from mpl_toolkits.mplot3d import Axes3D\n",
    "from matplotlib import cm\n",
    "\n",
    "\n",
    "\n",
    "############### 1. input parameter\n",
    "rank_path = \"../files/3d-mcmtpy/\"\n",
    "MPI_n = 30\n",
    "strike_num = 361                                                                # step:5度 = 73  ||  step:1度 = 361\n",
    "rake_num = 361\n",
    "\n",
    "Strike = 138                                                                    # rake 剖面时，选取strike的数值\n",
    "Rake = -170                                                                     # strike 剖面时，选取rake的数值\n",
    "\n",
    "Num_stem = 40\n",
    "\n",
    "\n",
    "############### 2. read data\n",
    "for i in range(0, MPI_n, 1):\n",
    "    FM_all_path = os.path.join(rank_path, 'rank_'+str(i)+'_FM_all')\n",
    "    if i == 0:\n",
    "        FM_all = np.loadtxt(FM_all_path)\n",
    "    else:\n",
    "        FM_all = np.vstack((FM_all, np.loadtxt(FM_all_path)))\n",
    "\n",
    "misfit_all = FM_all[:, 0]\n",
    "mag_all = FM_all[:, 1]\n",
    "strike_all = FM_all[:, 2]\n",
    "dip_all = FM_all[:, 3]\n",
    "rake_all = FM_all[:, 4]\n",
    "depth_all = FM_all[:, 5]\n",
    "\n",
    "index_min = np.where(misfit_all == np.min(misfit_all))[0]\n",
    "fm_min = FM_all[index_min]                                                      # 全局最小值\n",
    "\n",
    "\n",
    "strike = np.linspace(0, 360, strike_num)                                        # strike_all\n",
    "rake = np.linspace(-180, 180, rake_num)                                         # rake_all\n",
    "X, Y = np.meshgrid(strike, rake)\n",
    "Z = misfit_all.reshape((strike_num,rake_num))/max(misfit_all)  # 此时需要转置才能对应xy平面\n",
    "Z=Z.T\n",
    "for i in range(0, strike_num, 1):\n",
    "    if (strike[i] <= Strike) and (strike[i+1] > Strike):\n",
    "        strike_index = i\n",
    "for i in range(0, rake_num, 1):\n",
    "    if (rake[i] <= Rake) and (rake[i+1] > Rake):\n",
    "        rake_index = i\n",
    "rake_2D = Z[ :,strike_index]                                                    # rake 二维剖面的数组\n",
    "strike_2D = Z[ rake_index,:]                                                    # strike 二维剖面的数组\n",
    "\n",
    "\n",
    "\n",
    "############### 3. plot\n",
    "fig = plt.figure(figsize=(10, 10))\n",
    "gs1 = gridspec.GridSpec(4, 2)\n",
    "# fig.suptitle('Strike and Rake Grid-Search')\n",
    "fig.subplots_adjust(wspace=0.1, hspace=0.5)\n",
    "\n",
    "\n",
    "### 3.1. 3-D subplot\n",
    "cmap = 'coolwarm'                                                               # coolwarm plasma viridis\n",
    "ax = plt.subplot(gs1[:-1, :], projection='3d')\n",
    "plt.rcParams['font.sans-serif'] = ['Times New Roman']\n",
    "surf = ax.plot_surface(X, Y, Z, cmap=cmap, shade=True, antialiased=True, rstride=1, cstride=1, alpha=0.7)\n",
    "ax.contour(X, Y, Z, zdir='z', offset=0, cmap=cmap)\n",
    "\n",
    "ax.set_xlim(0, 360)\n",
    "ax.set_ylim(-180, 180)\n",
    "ax.set_zlim(0, 1.1)\n",
    "ax.set_xlabel('Strike')\n",
    "ax.set_ylabel('Rake')\n",
    "ax.zaxis.set_rotate_label(False)   # 必须禁用z轴标签的自动旋转\n",
    "ax.set_zlabel('Normlized misfit', rotation=90)\n",
    "\n",
    "x_major_locator=MultipleLocator(90)                                             # 坐标刻度间隔\n",
    "y_major_locator=MultipleLocator(90)\n",
    "z_major_locator=MultipleLocator(0.3)\n",
    "ax.xaxis.set_major_locator(x_major_locator)\n",
    "ax.yaxis.set_major_locator(y_major_locator)\n",
    "ax.zaxis.set_major_locator(z_major_locator)\n",
    "ax.grid(False)   # 关闭网格\n",
    "# ax.invert_xaxis()  # 反转x轴\n",
    "ax.w_xaxis.set_pane_color((1.0, 1.0, 1.0, 1.0))  # x 面的背景色设置为透明\n",
    "ax.w_yaxis.set_pane_color((1.0, 1.0, 1.0, 1.0))  # y 面的背景色设置为透明\n",
    "ax.view_init(elev=18, azim=220)    # 20 60\n",
    "# ax.set_axis_off()\n",
    "# ax.set_xticks([])#不显示x坐标轴\n",
    "# ax.set_yticks([])#不显示y坐标轴\n",
    "# ax.set_zticks([])#不显示z坐标轴\n",
    "\n",
    "# colorbar\n",
    "cb=fig.colorbar(surf, shrink=0.3, aspect=8)\n",
    "font = {'family' : 'serif',\n",
    "        'color'  : 'black',\n",
    "        'weight' : 'normal',\n",
    "        'size'   : 9,\n",
    "        }\n",
    "cb.set_label('Normlized misfit',fontdict=font)\n",
    "cb.ax.tick_params(labelsize=8)  # colorbar 标签字体大小\n",
    "\n",
    "# text\n",
    "ax.text(190, -168, 0.35, 'F1', style='italic', fontsize=15,verticalalignment='center',\n",
    "        horizontalalignment='center',bbox = dict(facecolor = \"orange\", alpha = 0.6))\n",
    "\n",
    "ax.text(30, -4, 0.4, 'F2', style='italic', fontsize=15,verticalalignment='center',\n",
    "        horizontalalignment='center',bbox = dict(facecolor = \"orange\", alpha = 0.6))\n",
    "\n",
    "ax.text(260, -160, 1.1, 'LM', style='italic', fontsize=15,verticalalignment='center',\n",
    "        horizontalalignment='center',bbox = dict(facecolor = \"lime\", alpha = 0.6))\n",
    "\n",
    "\n",
    "ax.text(360, -170, 0.30, 'E1', style='italic', fontsize=15,verticalalignment='center',\n",
    "        horizontalalignment='center',bbox = dict(facecolor = \"m\", alpha = 0.6))\n",
    "\n",
    "ax.text(250, 0, 0.35, 'E2', style='italic', fontsize=15,verticalalignment='center',\n",
    "        horizontalalignment='center',bbox = dict(facecolor = \"m\", alpha = 0.6))\n",
    "\n",
    "\n",
    "# 画两条横线\n",
    "ax.plot(strike,Rake*np.ones(shape=strike.shape) , zs=0, zdir='z',color='b')\n",
    "ax.text(-20, -168, 0,'A1', style='italic', fontsize=15,verticalalignment='center',horizontalalignment='center')\n",
    "ax.text(380, -168, 0,'A2', style='italic', fontsize=15,verticalalignment='center',horizontalalignment='center')\n",
    "\n",
    "ax.plot(Strike*np.ones(shape=rake.shape),rake , zs=0, zdir='z',color='b')\n",
    "ax.text(135, -210, 0,'B1', style='italic', fontsize=15,verticalalignment='center',horizontalalignment='center')\n",
    "ax.text(135, 200, 0,'B2', style='italic', fontsize=15,verticalalignment='center',horizontalalignment='center')\n",
    "\n",
    "ax.text(-100, 240, 1.4,'(a)',horizontalalignment='center', verticalalignment='center',\\\n",
    "          fontsize=20, color='k',alpha=1,zorder=1) \n",
    "\n",
    "#%% 3.2. strike subplot\n",
    "ax = plt.subplot(gs1[-1, 1])\n",
    "x = np.linspace(0, 360, strike_num)\n",
    "\n",
    "\n",
    "tt = []\n",
    "yy = []\n",
    "for i in range(0,Num_stem,1):\n",
    "    if i == 0:\n",
    "        tt.append(x[0])\n",
    "        yy.append(strike_2D[0])\n",
    "    else:\n",
    "        index = math.floor(i*strike_num/Num_stem)\n",
    "        tt.append( x[index] )\n",
    "        yy.append( strike_2D[index] )\n",
    "\n",
    "markerline, stemlines, baseline=ax.stem(tt, yy, linefmt='grey', markerfmt='D', bottom=0)\n",
    "markerline.set_markerfacecolor('none')\n",
    "ax.set_xlabel('Strike')\n",
    "ax.set_xlim(-5, 365)\n",
    "ax.set_ylim(0.2, 1.1)\n",
    "ax.spines['top'].set_visible(False)\n",
    "ax.spines['right'].set_visible(False)\n",
    "ax.spines['bottom'].set_visible(True)\n",
    "ax.spines['left'].set_visible(False)\n",
    "ax.get_xaxis().set_visible(True)\n",
    "ax.get_yaxis().set_visible(False)\n",
    "x_major_locator=MultipleLocator(60)\n",
    "ax.xaxis.set_major_locator(x_major_locator)\n",
    "ax.set_title('A1——A2 | rake=-170°',fontsize=15)\n",
    "\n",
    "ax.text(-5, 1.3,'(c)',horizontalalignment='center', verticalalignment='center',\\\n",
    "          fontsize=20, color='k',alpha=1,zorder=1) \n",
    "\n",
    "#%% 3.3. rake subplot\n",
    "ax = plt.subplot(gs1[-1, 0])\n",
    "x = np.linspace(-180, 180, rake_num)\n",
    "Num_stem = 40\n",
    "\n",
    "tt = []\n",
    "yy = []\n",
    "for i in range(0,Num_stem,1):\n",
    "    if i == 0:\n",
    "        tt.append(x[0])\n",
    "        yy.append(rake_2D[0])\n",
    "    else:\n",
    "        index = math.floor(i*rake_num/Num_stem)\n",
    "        tt.append( x[index] )\n",
    "        yy.append( rake_2D[index] )\n",
    "\n",
    "markerline, stemlines, baseline=ax.stem(tt, yy, linefmt='grey', markerfmt='D', bottom=0)\n",
    "markerline.set_markerfacecolor('none')\n",
    "ax.set_xlabel('Rake')\n",
    "ax.set_xlim(-185, 185)\n",
    "ax.set_ylim(0.2, 1.1)\n",
    "ax.spines['top'].set_visible(False)\n",
    "ax.spines['right'].set_visible(False)\n",
    "ax.spines['bottom'].set_visible(True)\n",
    "ax.spines['left'].set_visible(False)\n",
    "ax.get_xaxis().set_visible(True)\n",
    "ax.get_yaxis().set_visible(False)\n",
    "x_major_locator=MultipleLocator(60)\n",
    "ax.xaxis.set_major_locator(x_major_locator)\n",
    "ax.set_title('B1——B2 | strike=138°',fontsize=15)\n",
    "\n",
    "ax.text(-185, 1.3,'(b)',horizontalalignment='center', verticalalignment='center',\\\n",
    "          fontsize=20, color='k',alpha=1,zorder=1) \n",
    "    \n",
    "#%% 4. save figure\n",
    "plt.show()\n",
    "# figurename=os.path.join('./grid1.pdf')\n",
    "# fig.savefig(figurename,dpi=800, format='pdf')"
   ]
  },
  {
   "cell_type": "markdown",
   "id": "e55949f7",
   "metadata": {},
   "source": [
    "## 1D Histogram"
   ]
  },
  {
   "cell_type": "code",
   "execution_count": 2,
   "id": "2e296f54",
   "metadata": {
    "tags": [
     "hide-input"
    ]
   },
   "outputs": [
    {
     "ename": "ModuleNotFoundError",
     "evalue": "No module named 'json5'",
     "output_type": "error",
     "traceback": [
      "\u001b[0;31m---------------------------------------------------------------------------\u001b[0m",
      "\u001b[0;31mModuleNotFoundError\u001b[0m                       Traceback (most recent call last)",
      "Cell \u001b[0;32mIn [2], line 11\u001b[0m\n\u001b[1;32m      9\u001b[0m \u001b[38;5;28;01mimport\u001b[39;00m \u001b[38;5;21;01mnumpy\u001b[39;00m \u001b[38;5;28;01mas\u001b[39;00m \u001b[38;5;21;01mnp\u001b[39;00m\n\u001b[1;32m     10\u001b[0m \u001b[38;5;28;01mimport\u001b[39;00m \u001b[38;5;21;01mos\u001b[39;00m\u001b[38;5;241m,\u001b[39m\u001b[38;5;21;01msys\u001b[39;00m\n\u001b[0;32m---> 11\u001b[0m \u001b[38;5;28;01mimport\u001b[39;00m \u001b[38;5;21;01mjson5\u001b[39;00m\n\u001b[1;32m     12\u001b[0m \u001b[38;5;28;01mimport\u001b[39;00m \u001b[38;5;21;01mmatplotlib\u001b[39;00m\u001b[38;5;21;01m.\u001b[39;00m\u001b[38;5;21;01mpyplot\u001b[39;00m \u001b[38;5;28;01mas\u001b[39;00m \u001b[38;5;21;01mplt\u001b[39;00m\n\u001b[1;32m     13\u001b[0m \u001b[38;5;28;01mfrom\u001b[39;00m \u001b[38;5;21;01mobspy\u001b[39;00m\u001b[38;5;21;01m.\u001b[39;00m\u001b[38;5;21;01mimaging\u001b[39;00m\u001b[38;5;21;01m.\u001b[39;00m\u001b[38;5;21;01mbeachball\u001b[39;00m \u001b[38;5;28;01mimport\u001b[39;00m beachball\n",
      "\u001b[0;31mModuleNotFoundError\u001b[0m: No module named 'json5'"
     ]
    }
   ],
   "source": [
    "#!/usr/bin/env python3\n",
    "# -*- coding: utf-8 -*-\n",
    "\"\"\"\n",
    "Created on Fri Jul 30 16:16:28 2021\n",
    "\n",
    "@author: yf\n",
    "\"\"\"\n",
    "\n",
    "import numpy as np\n",
    "import os,sys\n",
    "import json5\n",
    "import matplotlib.pyplot as plt\n",
    "from obspy.imaging.beachball import beachball\n",
    "\n",
    "\n",
    "\n",
    "#%% 1.input path\n",
    "sample_path      = '../files/1d-histogram'\n",
    "\n",
    "MPI_n=30                                                                         # 第一次试验：其中 MPI-3 与 MPI-9 采样陷入了极小值，从0开始数 || 第二次实验：MPI-24\n",
    "MPI_n_st           = 0\n",
    "Chains_n_st        = 0\n",
    "num_bins=50\n",
    "N = 2000                                                                        # 从第几个开始画\n",
    "\n",
    "\n",
    "\n",
    "\n",
    "\n",
    "\n",
    "#%% 2.read data\n",
    "FM_all=[]\n",
    "for i in range(0,MPI_n,1):\n",
    "    if i!=4 and i!=12 and i!=15:\n",
    "        rank_path = os.path.join(sample_path,'Output_'+'rand_'+str(i),'rank_'+str(MPI_n_st)+'_output')\n",
    "        FM_path   = os.path.join(rank_path,'chain_'+str(Chains_n_st)+'_FM_2_accept_all')\n",
    "        FM        = np.loadtxt(FM_path)\n",
    "        FM_all.append(FM)\n",
    "\n",
    "FM1=[];FM2=[]\n",
    "LM1=[];LM2=[]\n",
    "\n",
    "MPI_n = MPI_n-3\n",
    "\n",
    "## 2.1 纠正 strike/rake 的周期跳跃问题\n",
    "for i in range(0,MPI_n,1):\n",
    "    for k in range(1,4,1):\n",
    "        for j in range(0,FM_all[i].shape[0]):\n",
    "            if k==1:                                                        # strike 周期跳跃\n",
    "                if FM_all[i][j,k]>360 and FM_all[i][j,k]<720:\n",
    "                    FM_all[i][j,k]=FM_all[i][j,k]-360\n",
    "                if FM_all[i][j,k]<0 and FM_all[i][j,k]>(-360):\n",
    "                    FM_all[i][j,k]=FM_all[i][j,k]+360\n",
    "            if k==3:                                                         # rake 周期跳跃\n",
    "                if FM_all[i][j,k]>120:\n",
    "                    FM_all[i][j,k]=FM_all[i][j,k]-360\n",
    "\n",
    "## 2.2 分为4组解\n",
    "for i in range(0,MPI_n,1):\n",
    "    strike_mean = FM_all[i][:,1].mean()\n",
    "    if strike_mean>100 and strike_mean<150:  # FM1\n",
    "        FM1.append(i)\n",
    "    if strike_mean>0 and strike_mean<80:  # FM5\n",
    "        FM2.append(i)\n",
    "    if strike_mean>300 and strike_mean<360:  # LM1\n",
    "        LM1.append(i)\n",
    "    if strike_mean>200 and strike_mean<250:  # LM2\n",
    "        LM2.append(i)\n",
    "    if strike_mean>250 and strike_mean<300:  # LM2    #                         找到未收敛的 core 每次可能不一样！！\n",
    "        # print(i)\n",
    "        pass\n",
    "\n",
    "## 2.3 计算4组解的平均值\n",
    "LM1_mu_all=[]\n",
    "LM1_sigma_all=[]\n",
    "for i in LM1:\n",
    "    mu_all=[]\n",
    "    sigma_all=[]\n",
    "    for k in range(0,8,1):\n",
    "        mu=np.around(np.mean(FM_all[i][N:,k]), decimals=5)                        # Keep two decimal places\n",
    "        sigma =np.around(np.std(FM_all[i][N:,k]), decimals=5)\n",
    "        mu_all.append(mu)\n",
    "        sigma_all.append(sigma)\n",
    "    LM1_mu_all.append(mu_all)\n",
    "    LM1_sigma_all.append(sigma_all)\n",
    "LM1_mu=np.around(np.mean(LM1_mu_all,axis=0),decimals=2)\n",
    "LM1_sigma=np.around(np.mean(LM1_sigma_all,axis=0),decimals=2)\n",
    "\n",
    "\n",
    "LM2_mu_all=[]\n",
    "LM2_sigma_all=[]\n",
    "for i in LM2:\n",
    "    mu_all=[]\n",
    "    sigma_all=[]\n",
    "    for k in range(0,8,1):\n",
    "        mu=np.around(np.mean(FM_all[i][N:,k]), decimals=5)                        # Keep two decimal places\n",
    "        sigma =np.around(np.std(FM_all[i][N:,k]), decimals=5)\n",
    "        mu_all.append(mu)\n",
    "        sigma_all.append(sigma)\n",
    "    LM2_mu_all.append(mu_all)\n",
    "    LM2_sigma_all.append(sigma_all)\n",
    "LM2_mu=np.around(np.mean(LM2_mu_all,axis=0),decimals=2)\n",
    "LM2_sigma=np.around(np.mean(LM2_sigma_all,axis=0),decimals=2)\n",
    "\n",
    "\n",
    "FM1_mu_all=[]\n",
    "FM1_sigma_all=[]\n",
    "for i in FM1:\n",
    "    mu_all=[]\n",
    "    sigma_all=[]\n",
    "    for k in range(0,8,1):\n",
    "        mu=np.around(np.mean(FM_all[i][N:,k]), decimals=5)                        # Keep two decimal places\n",
    "        sigma =np.around(np.std(FM_all[i][N:,k]), decimals=5)\n",
    "        mu_all.append(mu)\n",
    "        sigma_all.append(sigma)\n",
    "    FM1_mu_all.append(mu_all)\n",
    "    FM1_sigma_all.append(sigma_all)\n",
    "FM1_mu=np.around(np.mean(FM1_mu_all,axis=0),decimals=2)\n",
    "FM1_sigma=np.around(np.mean(FM1_sigma_all,axis=0),decimals=2)\n",
    "\n",
    "\n",
    "FM2_mu_all=[]\n",
    "FM2_sigma_all=[]\n",
    "for i in FM2:\n",
    "    mu_all=[]\n",
    "    sigma_all=[]\n",
    "    for k in range(0,8,1):\n",
    "        mu=np.around(np.mean(FM_all[i][N:,k]), decimals=5)                        # Keep two decimal places\n",
    "        sigma =np.around(np.std(FM_all[i][N:,k]), decimals=5)\n",
    "        mu_all.append(mu)\n",
    "        sigma_all.append(sigma)\n",
    "    FM2_mu_all.append(mu_all)\n",
    "    FM2_sigma_all.append(sigma_all)\n",
    "\n",
    "FM2_mu=np.around(np.mean(FM2_mu_all,axis=0),decimals=2)\n",
    "FM2_sigma=np.around(np.mean(FM2_sigma_all,axis=0),decimals=2)\n",
    "\n",
    "\n",
    "\n",
    "\n",
    "#%% 3. plot\n",
    "fig, axs = plt.subplots(4, 2, dpi=800,figsize=(9, 13))\n",
    "plt.rcParams['font.sans-serif'] = ['Times New Roman']\n",
    "fig.subplots_adjust(wspace =0.2, hspace =0.5)\n",
    "for k in range(0,8,1):\n",
    "    s1 = k//2\n",
    "    s2 = k%2\n",
    "    for i in range(0,MPI_n,1):\n",
    "        # if i!=3 and i!=9:\n",
    "        if i!=24:\n",
    "            mu=np.around(np.mean(FM_all[i][N:,k]), decimals=5)                        # Keep two decimal places\n",
    "            sigma =np.around(np.std(FM_all[i][N:,k]), decimals=5)\n",
    "        \n",
    "            if i in FM1:\n",
    "                facecolor = 'navajowhite'\n",
    "            elif i in FM2:\n",
    "                facecolor = 'navajowhite'\n",
    "            elif i in LM1:\n",
    "                facecolor = 'lightsteelblue'\n",
    "            else:\n",
    "                facecolor = 'lightsteelblue'\n",
    "            n, bins, patches = axs[s1,s2].hist(FM_all[i][N:,k], num_bins, density=True,histtype='stepfilled', facecolor=facecolor,alpha=0.7)\n",
    "\n",
    "            y = ((1 / (np.sqrt(2 * np.pi) * sigma)) *\n",
    "                 np.exp(-0.5 * (1 / sigma * (bins - mu))**2))\n",
    "            axs[s1,s2].plot(bins, y, '--',color=facecolor,linewidth=0.5)                      # Draw a Gaussian fitting curve\n",
    "\n",
    "\n",
    "    if k==0:\n",
    "        # axs[s1,s2].text(5, max(y),  str(f'FM1:{FM1_mu[0]}\\nFM2:{FM2_mu[0]}\\nLM1:{LM1_mu[0]}\\nLM2:{LM2_mu[0]}'), \n",
    "        # #                 style='italic', fontsize=15,verticalalignment='center',\n",
    "        # horizontalalignment='center',bbox = dict(facecolor = \"orange\", alpha = 0.6))\n",
    "        axs[s1,s2].set_xlim(5,8)\n",
    "        axs[s1,s2].set_xlabel('Mw', fontsize=12)\n",
    "    if k==1:\n",
    "        axs[s1,s2].set_xlim(0,360)\n",
    "        axs[s1,s2].set_xlabel('Strike/°', fontsize=12)\n",
    "    if k==2:\n",
    "        axs[s1,s2].set_xlim(0,90)\n",
    "        axs[s1,s2].set_xlabel('Dip/°', fontsize=12)\n",
    "    if k==3:\n",
    "        axs[s1,s2].set_xlim(-250,100)\n",
    "        axs[s1,s2].set_xlabel('Rake/°', fontsize=12)\n",
    "    if k==4:\n",
    "        axs[s1,s2].set_xlim(25,26)\n",
    "        axs[s1,s2].set_xlabel('Latitude/°', fontsize=12)\n",
    "    if k==5:\n",
    "        axs[s1,s2].set_xlim(99.4,100.6)\n",
    "        axs[s1,s2].set_xlabel('Longtitude/°', fontsize=12)\n",
    "    if k==6:\n",
    "        axs[s1,s2].set_xlim(0,30)\n",
    "        axs[s1,s2].set_xlabel('Depth/km', fontsize=12)\n",
    "    if k==7:\n",
    "        axs[s1,s2].set_xlim(-10,10)\n",
    "        axs[s1,s2].set_xlabel('T0/s', fontsize=12)\n",
    "    axs[s1,s2].spines['bottom'].set_visible(True)\n",
    "    axs[s1,s2].spines['top'].set_visible(False)                   # Coordinate boxes are not displayed\n",
    "    axs[s1,s2].spines['right'].set_visible(False) \n",
    "    axs[s1,s2].spines['left'].set_visible(False)\n",
    "    axs[s1,s2].get_yaxis().set_visible(False)\n",
    "\n",
    "# fig.savefig('./pdf/randFM.pdf', dpi=800, format='pdf')\n",
    "\n",
    "\n",
    "\n",
    "\n",
    "\n",
    "#%% 4. beachball\n",
    "# fig = beachball(FM1_mu[1:4], size=200, linewidth=1, facecolor='g')\n",
    "# fig.savefig('./pdf/FM1.pdf', dpi=800, format='pdf')\n",
    "\n",
    "# fig = beachball(FM2_mu[1:4], size=200, linewidth=1, facecolor='g')\n",
    "# fig.savefig('./pdf/FM2.pdf', dpi=800, format='pdf')\n",
    "\n",
    "# fig = beachball(LM1_mu[1:4], size=200, linewidth=1, facecolor='g')\n",
    "# fig.savefig('./pdf/LM1.pdf', dpi=800, format='pdf')\n",
    "\n",
    "# fig = beachball(LM2_mu[1:4], size=200, linewidth=1, facecolor='g')\n",
    "# fig.savefig('./pdf/LM2.pdf', dpi=800, format='pdf')\n",
    "\n",
    "\n",
    "\n",
    "\n",
    "\n",
    "#%% 5. save\n",
    "# fp = open(os.path.join('./pdf/FM_mu_sigma.txt'), 'w')\n",
    "# for m in range(0,len(FM1_mu)):\n",
    "#     fp.write(str(FM1_mu[m]))\n",
    "#     fp.write('\\t')\n",
    "#     fp.write(str(FM1_sigma[m]))\n",
    "#     fp.write('\\t')\n",
    "# fp.write('\\n')\n",
    "# for m in range(0,len(FM2_mu)):\n",
    "#     fp.write(str(FM2_mu[m]))\n",
    "#     fp.write('\\t')\n",
    "#     fp.write(str(FM2_sigma[m]))\n",
    "#     fp.write('\\t')\n",
    "# fp.write('\\n')\n",
    "# for m in range(0,len(LM1_mu)):\n",
    "#     fp.write(str(LM1_mu[m]))\n",
    "#     fp.write('\\t')\n",
    "#     fp.write(str(LM1_sigma[m]))\n",
    "#     fp.write('\\t')\n",
    "# fp.write('\\n')\n",
    "# for m in range(0,len(LM2_mu)):\n",
    "#     fp.write(str(LM2_mu[m]))\n",
    "#     fp.write('\\t')\n",
    "#     fp.write(str(LM2_sigma[m]))\n",
    "#     fp.write('\\t')\n",
    "# fp.write('\\n')\n",
    "# fp.close()\n"
   ]
  },
  {
   "cell_type": "markdown",
   "id": "e4e007b5",
   "metadata": {},
   "source": [
    "## 2D Histogram"
   ]
  },
  {
   "cell_type": "code",
   "execution_count": null,
   "id": "a5b532eb",
   "metadata": {
    "tags": [
     "hide-input"
    ]
   },
   "outputs": [],
   "source": [
    "#!/usr/bin/env python3\n",
    "# -*- coding: utf-8 -*-\n",
    "\"\"\"\n",
    "Created on Sun Mar 21 00:20:35 2021\n",
    "\n",
    "@author: Fu Yin (yinfu@mail.ustc.edu.cn) at USTC\n",
    "\n",
    "This script:\n",
    "    1) plot hist\n",
    "\n",
    "\n",
    "Modify history:\n",
    "    1) Mar 21 00:20:35 2021   ||    Fu Yin at USTC    ||    The initial release.\n",
    "    2) Jun 28 11:08:02 2021   ||    Fu Yin at USTC    ||    Add figure format parameter.\n",
    "\"\"\"\n",
    "\n",
    "import matplotlib.pyplot as plt\n",
    "import numpy as np\n",
    "import os\n",
    "import sys\n",
    "from math import sqrt\n",
    "\n",
    "##############################################################################\n",
    "def plot_hist(FM_all,FM_accept_all,num_bins,num_std,labels_name,Fixed_FM,InvType,fig_format):\n",
    "    FM = FM_all\n",
    "    figurename=os.path.join('hist.'+fig_format)\n",
    "    \n",
    "    if InvType == 'mt':\n",
    "        N_all = 11\n",
    "    elif InvType == 'dc':\n",
    "        N_all = 8\n",
    "    elif InvType == 'sf':\n",
    "        N_all = 8\n",
    "    elif InvType == 'mt':\n",
    "        N_all = 5\n",
    "\n",
    "    N = Fixed_FM.count('variable')                                          # plot: The number of subgraphs of a row\n",
    "\n",
    "    delete_list=[]\n",
    "    for i in range(0,N_all,1):\n",
    "        if Fixed_FM[i]!='variable':\n",
    "            delete_list.append(i)\n",
    "\n",
    "    FM = np.delete(FM,delete_list, axis=1)                                  # The delete solution that is a fixed parameter\n",
    "\n",
    "\n",
    "    FM_mean=np.zeros(shape=(N))\n",
    "    FM_sigma=np.zeros(shape=(N))\n",
    "    for i in range(0,N,1):\n",
    "        FM_mean[i]=np.mean(FM[0:,i])                                        # FM The mean of each parameter\n",
    "        FM_sigma[i]=np.std(FM[0:,i])                                        # FM The standard deviation of each parameter\n",
    "\n",
    "    FM_used = FM.copy()                                                     # strike rake cycle skip\n",
    "    if InvType=='dc':\n",
    "        if FM_mean[1]>360 and FM_mean[1]<720:\n",
    "            FM_used[:,1]=FM_used[:,1]-360\n",
    "            FM_mean[1]=FM_mean[1]-360\n",
    "        if FM_mean[1]<0 and FM_mean[1]>(-360):\n",
    "            FM_used[:,1]=FM_used[:,1]+360\n",
    "            FM_mean[1]=FM_mean[1]+360\n",
    "\n",
    "        if FM_mean[3]>180 and FM_mean[3]<540:\n",
    "            FM_used[:,3]=FM_used[:,3]-360\n",
    "            FM_mean[3]=FM_mean[3]-360\n",
    "        if FM_mean[3]<(-180) and FM_mean[3]>(-540):\n",
    "            FM_used[:,3]=FM_used[:,3]+360\n",
    "            FM_mean[3]=FM_mean[3]+360\n",
    "\n",
    "    plt.style.use('default')                                                # Use the default plotting style (make sure it's not the ggplot style)\n",
    "    fig, axs = plt.subplots(N, N, dpi=800,figsize=(16, 16))\n",
    "    plt.rcParams['font.sans-serif'] = ['Times New Roman']\n",
    "    \n",
    "    for i in range(0,N,1):\n",
    "        for j in range(0,N,1):\n",
    "            x=FM_used[:,i]\n",
    "            y=FM_used[:,j]\n",
    "            axs[i,j].get_xaxis().set_visible(False)                         # Do not display the axes\n",
    "            axs[i,j].get_yaxis().set_visible(False)\n",
    "            if j==0:\n",
    "                axs[i,j].get_yaxis().set_visible(True)\n",
    "                axs[i,j].set_ylabel(labels_name[i],fontsize=19)             # The left axis labels\n",
    "            if i==N-1:\n",
    "                axs[i,j].get_xaxis().set_visible(True)\n",
    "                axs[i,j].set_xlabel(labels_name[j],fontsize=19)             # The bottom axis labels\n",
    "            \n",
    "            if i<j:\n",
    "                axs[i,j].set_axis_off()                                     # The upper right part of the image is not displayed\n",
    "            \n",
    "            if i>j:\n",
    "                h, xx, yy, p=axs[i,j].hist2d( y,x, bins=(50, 50), cmap=plt.cm.gist_earth_r)   # hist2d\n",
    "                x_start = FM_mean[j]-num_std*FM_sigma[j]                    # Adjust the range of the coordinate axes\n",
    "                x_end = FM_mean[j]+num_std*FM_sigma[j]\n",
    "                y_start = FM_mean[i]-num_std*FM_sigma[i]\n",
    "                y_end = FM_mean[i]+num_std*FM_sigma[i]\n",
    "                axs[i, j].set_xlim(x_start,x_end)\n",
    "                axs[i, j].set_ylim(y_start,y_end)\n",
    "                axs[i,j].scatter(FM_mean[j],FM_mean[i],s=100,c='tab:red')   # Draw the average value (red dots)\n",
    "                # plt.clf()\n",
    "                # axs[i,j].imshow(h, origin = \"lower\", interpolation = \"gaussian\",cmap=plt.cm.gist_earth_r)\n",
    "                cov_yx = np.cov(y.T, x.T)                                   # Covariance matrix\n",
    "                cov0_yx = np.around(cov_yx[0,1]/sqrt(cov_yx[0,0]*cov_yx[1,1]), decimals=2)  # The correlation coefficient\n",
    "                \n",
    "                cov0_yx_text = 'cov0: '+str(cov0_yx)\n",
    "                axs[i,j].text(x_start, y_end,cov0_yx_text,horizontalalignment='left', verticalalignment='top',\n",
    "                                fontsize=12, color='black',bbox = dict(facecolor = \"k\", alpha = 0.05))                      # Mark the correlation coefficient SHIFT\n",
    "                \n",
    "            if i==j:\n",
    "                axs[i,j].spines['top'].set_visible(False)                   # Coordinate boxes are not displayed\n",
    "                axs[i,j].spines['right'].set_visible(False) \n",
    "                axs[i,j].spines['left'].set_visible(False)\n",
    "                axs[i,j].spines['bottom'].set_visible(False)\n",
    "                axs[i,j].get_yaxis().set_visible(False)\n",
    "        \n",
    "\n",
    "                n, bins, patches = axs[i,j].hist(x, num_bins, density=True,histtype='stepfilled', facecolor='orange',\n",
    "                                                    alpha=0.5)                 # histgram\n",
    "    \n",
    "                mu=np.around(FM_mean[i], decimals=2)                        # Keep two decimal places\n",
    "                sigma =np.around(FM_sigma[i], decimals=2)\n",
    "            \n",
    "                y = ((1 / (np.sqrt(2 * np.pi) * sigma)) *\n",
    "                        np.exp(-0.5 * (1 / sigma * (bins - mu))**2))\n",
    "                axs[i,j].plot(bins, y, '--',color='g')                      # Draw a Gaussian fitting curve\n",
    "                str_hist=' $\\mu='+str(mu)+'$, $\\sigma='+str(sigma)+'$'\n",
    "                axs[i,j].set_title(r' $\\mu='+str(mu)+'$, $\\sigma='+str(sigma)+'$')\n",
    "            \n",
    "                x_start = FM_mean[j]-num_std*FM_sigma[j]                    # Adjust the range of the coordinate axes\n",
    "                x_end = FM_mean[j]+num_std*FM_sigma[j]\n",
    "                y_start = FM_mean[i]-num_std*FM_sigma[i]\n",
    "                y_end = FM_mean[i]+num_std*FM_sigma[i]\n",
    "                axs[i,j].set_xlim(x_start,x_end)\n",
    "                axs[i,j].spines['bottom'].set_visible(True)                 # Shows the axis of coordinates at the bottom\n",
    "\n",
    "    fig.subplots_adjust(wspace =0.1, hspace =0.1)\n",
    "    # fig.savefig(figurename,dpi=800, format=fig_format)\n",
    "##############################################################################\n",
    "\n",
    "\n",
    "sample_path      = '../files/2d-histogram/'\n",
    "fig_format       = 'pdf'                              # history: Jun 28 11:08:02 2021\n",
    "MPI_n          = 1\n",
    "Chains_n       = 1\n",
    "num_bins       = 50                                    # plot hist2d: the number of grid\n",
    "num_std        = 5                                      # range of axes in each subgraph (mean +- several times standard deviation)\n",
    "labels_name    = ['Mw','Strike/°','Dip/°','Rake/°','Latitude/°','Longtitude/°','Depth/km','T0/s'] # labels:['mw','strike/°','dip/°','rake/°','x/km','y/km','z/km','t0/s']\n",
    "N_start        = 0\n",
    "N_start_accept = 0\n",
    "Fixed_FM       = ['variable','variable','variable','variable', 'variable','variable','variable','variable',]   \n",
    "InvType        = 'dc'                                      # 'mt' 'dc' 'sf' 'ep'\n",
    "N_k            = 2000\n",
    "\n",
    "for i in range(0,MPI_n,1):\n",
    "    rank_path = os.path.join(sample_path,'rank_'+str(i)+'_output')\n",
    "    for j in range(0,Chains_n,1):\n",
    "        FM_2_all_path = os.path.join(rank_path,'chain_'+str(j)+'_FM_2_all')\n",
    "        FM_2_accept_path = os.path.join(rank_path,'chain_'+str(j)+'_FM_2_accept_all')\n",
    "        if i==0 and j==0:\n",
    "            FM_2_all        = np.loadtxt(FM_2_all_path)[N_start:,:]\n",
    "            FM_2_accept_all = np.loadtxt(FM_2_accept_path)[N_start_accept:,:]\n",
    "        else:\n",
    "            FM_2_all        = np.vstack( ( FM_2_all, np.loadtxt(FM_2_all_path)[N_start:,:] ) )\n",
    "            FM_2_accept_all = np.vstack( ( FM_2_accept_all, np.loadtxt(FM_2_accept_path)[N_start_accept:,:] ) )\n",
    "\n",
    "plot_hist(FM_2_all,FM_2_accept_all,num_bins,num_std,labels_name,Fixed_FM,InvType,fig_format)"
   ]
  }
 ],
 "metadata": {
  "jupytext": {
   "text_representation": {
    "extension": ".md",
    "format_name": "myst"
   }
  },
  "kernelspec": {
   "display_name": "Python 3",
   "language": "python",
   "name": "python3"
  },
  "language_info": {
   "codemirror_mode": {
    "name": "ipython",
    "version": 3
   },
   "file_extension": ".py",
   "mimetype": "text/x-python",
   "name": "python",
   "nbconvert_exporter": "python",
   "pygments_lexer": "ipython3",
   "version": "3.9.15"
  },
  "source_map": [
   10,
   23,
   241,
   250,
   505,
   517
  ]
 },
 "nbformat": 4,
 "nbformat_minor": 5
}