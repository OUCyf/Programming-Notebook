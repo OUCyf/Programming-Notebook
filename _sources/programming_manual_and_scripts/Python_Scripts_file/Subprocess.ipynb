{
 "cells": [
  {
   "cell_type": "markdown",
   "id": "315e3011",
   "metadata": {},
   "source": [
    "# Subprocess\n",
    "\n",
    "- Author: *{{Fu}}*\n",
    "- Update: *July 29, 2022*\n",
    "- Reading: *30 min*\n",
    "\n",
    "---\n",
    "\n",
    "## Manual\n",
    "\n",
    "\n",
    "\n",
    "\n",
    "## Case-1\n",
    "<!-- ,remove-output -->"
   ]
  },
  {
   "cell_type": "code",
   "execution_count": 1,
   "id": "de119bc7",
   "metadata": {
    "tags": [
     "hide-input",
     "hide-output",
     "output_scroll",
     "remove-stderr",
     "raises-exception"
    ]
   },
   "outputs": [
    {
     "name": "stdout",
     "output_type": "stream",
     "text": [
      "this is some stdddout\n",
      "this is some stdout\n"
     ]
    },
    {
     "name": "stderr",
     "output_type": "stream",
     "text": [
      "this is some stderr\n"
     ]
    },
    {
     "ename": "NameError",
     "evalue": "name 'a' is not defined",
     "output_type": "error",
     "traceback": [
      "\u001b[0;31m---------------------------------------------------------------------------\u001b[0m",
      "\u001b[0;31mNameError\u001b[0m                                 Traceback (most recent call last)",
      "Cell \u001b[0;32mIn[1], line 5\u001b[0m\n\u001b[1;32m      3\u001b[0m \u001b[38;5;28mprint\u001b[39m(\u001b[38;5;124m\"\u001b[39m\u001b[38;5;124mthis is some stdout\u001b[39m\u001b[38;5;124m\"\u001b[39m)\n\u001b[1;32m      4\u001b[0m \u001b[38;5;28mprint\u001b[39m(\u001b[38;5;124m\"\u001b[39m\u001b[38;5;124mthis is some stderr\u001b[39m\u001b[38;5;124m\"\u001b[39m, file\u001b[38;5;241m=\u001b[39msys\u001b[38;5;241m.\u001b[39mstderr)\n\u001b[0;32m----> 5\u001b[0m \u001b[38;5;28mprint\u001b[39m(\u001b[43ma\u001b[49m)\n",
      "\u001b[0;31mNameError\u001b[0m: name 'a' is not defined"
     ]
    }
   ],
   "source": [
    "import sys\n",
    "print(\"this is some stdddout\")\n",
    "print(\"this is some stdout\")\n",
    "print(\"this is some stderr\", file=sys.stderr)\n",
    "print(a)"
   ]
  },
  {
   "cell_type": "markdown",
   "id": "023190f3",
   "metadata": {},
   "source": [
    "## Case-2\n",
    "\n",
    "\n",
    "\n",
    "\n",
    "## Case-3\n",
    "\n",
    "\n",
    "\n",
    "\n",
    "\n",
    "\n",
    "\n",
    "\n",
    "\n",
    "\n",
    "\n",
    "<!-- :tags: [remove-stderr]  -->\n",
    "<!-- [raises-exception] -->\n",
    "\n",
    "<!-- ```{code-cell} ipython3\n",
    ":tags: [hide-input,remove-stderr,raises-exception]\n",
    "\n",
    "import sys\n",
    "print(\"this is some stdout\")\n",
    "print(\"this is some stderr\", file=sys.stderr)\n",
    "print(a)\n",
    "```\n",
    "\n",
    "```{code-cell} ipython3\n",
    ":tags: [hide-input]\n",
    "\n",
    "import numpy as np\n",
    "import matplotlib.pyplot as plt\n",
    "plt.ion()\n",
    "\n",
    "data = np.random.randn(2, 100)\n",
    "fig, ax = plt.subplots()\n",
    "ax.scatter(*data, c=data[1], s=100*np.abs(data[0]));\n",
    "``` -->"
   ]
  }
 ],
 "metadata": {
  "jupytext": {
   "cell_metadata_filter": "-all",
   "formats": "md:myst",
   "text_representation": {
    "extension": ".md",
    "format_name": "myst"
   }
  },
  "kernelspec": {
   "display_name": "Python 3",
   "language": "python",
   "name": "python3"
  },
  "language_info": {
   "codemirror_mode": {
    "name": "ipython",
    "version": 3
   },
   "file_extension": ".py",
   "mimetype": "text/x-python",
   "name": "python",
   "nbconvert_exporter": "python",
   "pygments_lexer": "ipython3",
   "version": "3.9.15"
  },
  "source_map": [
   12,
   29,
   37
  ]
 },
 "nbformat": 4,
 "nbformat_minor": 5
}