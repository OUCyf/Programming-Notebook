{
 "cells": [
  {
   "cell_type": "markdown",
   "id": "c82d0877",
   "metadata": {},
   "source": [
    "# Python\n",
    "\n",
    "- Author: *{{Fu}}*\n",
    "- Update: *July 29, 2022*\n",
    "- Reading: *30 min*\n",
    "\n",
    "---\n",
    "\n",
    "\n",
    "File-IO Subprocess Numpy h5py \n",
    "\n",
    "\n",
    "## File IO\n",
    "\n",
    "```python\n",
    "### read files\n",
    "\n",
    "\n",
    "### write files\n",
    "fout = open(\"input.txt\", 'w') \n",
    "fout.write('# i \\t i+0.5 \\n')\n",
    "for i in range(0,10):\n",
    "  fout.write(str(i)) \n",
    "  fout.write('\\t')\n",
    "  fout.write(str(i+0.5)) \n",
    "  fout.write('\\n')\n",
    "fout.close()\n",
    "```\n",
    "\n",
    "## Numpy\n",
    "\n",
    "```python\n",
    "import numpy as np\n",
    "\n",
    "a = np.ones(10)\n",
    "```\n",
    "\n",
    "\n",
    "## Subprocess"
   ]
  },
  {
   "cell_type": "code",
   "execution_count": 1,
   "id": "5ac2f7d9",
   "metadata": {
    "tags": [
     "hide-input",
     "hide-output",
     "output_scroll",
     "remove-stderr",
     "raises-exception"
    ]
   },
   "outputs": [
    {
     "name": "stdout",
     "output_type": "stream",
     "text": [
      "this is some stdddout\n",
      "this is some stdout\n"
     ]
    },
    {
     "name": "stderr",
     "output_type": "stream",
     "text": [
      "this is some stderr\n"
     ]
    },
    {
     "ename": "NameError",
     "evalue": "name 'a' is not defined",
     "output_type": "error",
     "traceback": [
      "\u001b[0;31m---------------------------------------------------------------------------\u001b[0m",
      "\u001b[0;31mNameError\u001b[0m                                 Traceback (most recent call last)",
      "Cell \u001b[0;32mIn[1], line 5\u001b[0m\n\u001b[1;32m      3\u001b[0m \u001b[38;5;28mprint\u001b[39m(\u001b[38;5;124m\"\u001b[39m\u001b[38;5;124mthis is some stdout\u001b[39m\u001b[38;5;124m\"\u001b[39m)\n\u001b[1;32m      4\u001b[0m \u001b[38;5;28mprint\u001b[39m(\u001b[38;5;124m\"\u001b[39m\u001b[38;5;124mthis is some stderr\u001b[39m\u001b[38;5;124m\"\u001b[39m, file\u001b[38;5;241m=\u001b[39msys\u001b[38;5;241m.\u001b[39mstderr)\n\u001b[0;32m----> 5\u001b[0m \u001b[38;5;28mprint\u001b[39m(\u001b[43ma\u001b[49m)\n",
      "\u001b[0;31mNameError\u001b[0m: name 'a' is not defined"
     ]
    }
   ],
   "source": [
    "import sys\n",
    "print(\"this is some stdddout\")\n",
    "print(\"this is some stdout\")\n",
    "print(\"this is some stderr\", file=sys.stderr)\n",
    "print(a)"
   ]
  },
  {
   "cell_type": "markdown",
   "id": "32b705d6",
   "metadata": {},
   "source": [
    "## Multithreading Speeds Up Downloading Files\n",
    "\n",
    "http://dong.sh/posts/pythonftpparallelsdownload/"
   ]
  }
 ],
 "metadata": {
  "jupytext": {
   "cell_metadata_filter": "-all",
   "formats": "md:myst",
   "text_representation": {
    "extension": ".md",
    "format_name": "myst"
   }
  },
  "kernelspec": {
   "display_name": "Python 3",
   "language": "python",
   "name": "python3"
  },
  "language_info": {
   "codemirror_mode": {
    "name": "ipython",
    "version": 3
   },
   "file_extension": ".py",
   "mimetype": "text/x-python",
   "name": "python",
   "nbconvert_exporter": "python",
   "pygments_lexer": "ipython3",
   "version": "3.9.16"
  },
  "source_map": [
   12,
   55,
   63
  ]
 },
 "nbformat": 4,
 "nbformat_minor": 5
}